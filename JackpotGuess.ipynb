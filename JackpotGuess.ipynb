{
 "cells": [
  {
   "cell_type": "code",
   "execution_count": null,
   "id": "1cdc1bbd-9206-424c-82bd-3ada45fb569d",
   "metadata": {},
   "outputs": [],
   "source": [
    "import random\n",
    "\n",
    "jackpot = random.randint(1, 100)\n",
    "counter = 1\n",
    "\n",
    "guess = int(input('Guess a number: '))\n",
    "\n",
    "while guess != jackpot:\n",
    "    if guess < jackpot:\n",
    "        print('Wrong! Guess higher.')\n",
    "    else:\n",
    "        print('Wrong! Guess lower.')\n",
    "\n",
    "    guess = int(input('Guess again: '))\n",
    "    counter += 1\n",
    "\n",
    "print('Correct guess!')\n",
    "print('Attempts:', counter)"
   ]
  },
  {
   "cell_type": "code",
   "execution_count": null,
   "id": "1f8275fb-8723-417f-b638-7f280d66a9ef",
   "metadata": {},
   "outputs": [],
   "source": []
  }
 ],
 "metadata": {
  "kernelspec": {
   "display_name": "Python 3 (ipykernel)",
   "language": "python",
   "name": "python3"
  },
  "language_info": {
   "codemirror_mode": {
    "name": "ipython",
    "version": 3
   },
   "file_extension": ".py",
   "mimetype": "text/x-python",
   "name": "python",
   "nbconvert_exporter": "python",
   "pygments_lexer": "ipython3",
   "version": "3.12.5"
  }
 },
 "nbformat": 4,
 "nbformat_minor": 5
}
